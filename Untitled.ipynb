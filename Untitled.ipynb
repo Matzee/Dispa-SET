{
 "cells": [
  {
   "cell_type": "code",
   "execution_count": 1,
   "metadata": {},
   "outputs": [],
   "source": [
    "%load_ext autoreload\n"
   ]
  },
  {
   "cell_type": "code",
   "execution_count": 2,
   "metadata": {},
   "outputs": [],
   "source": [
    "%autoreload 2"
   ]
  },
  {
   "cell_type": "code",
   "execution_count": 74,
   "metadata": {},
   "outputs": [],
   "source": [
    "import dispaset as ds"
   ]
  },
  {
   "cell_type": "code",
   "execution_count": 75,
   "metadata": {},
   "outputs": [],
   "source": [
    "from dispaset.preprocessing.DispaModel import DispaModel"
   ]
  },
  {
   "cell_type": "code",
   "execution_count": 76,
   "metadata": {},
   "outputs": [
    {
     "name": "stderr",
     "output_type": "stream",
     "text": [
      "[INFO    ] (load_config_excel): Using config file /home/matthias/Dropbox/DispaFork/Dispa-SET/ConfigFiles/Config_noclusteringMZ.xlsx to build the simulation environment\n",
      "[INFO    ] (load_config_excel): Using /home/matthias/Dropbox/DispaFork/Dispa-SET/Simulations/simulationTest43605 as simulation folder\n"
     ]
    }
   ],
   "source": [
    "dm = DispaModel(excel_path=\"/home/matthias/Dropbox/DispaFork/Dispa-SET/ConfigFiles/Config_noclusteringMZ.xlsx\")"
   ]
  },
  {
   "cell_type": "code",
   "execution_count": 97,
   "metadata": {
    "scrolled": false
   },
   "outputs": [
    {
     "name": "stderr",
     "output_type": "stream",
     "text": [
      "[WARNING ] (interconnections): Zone DE does not appear to be connected to any other zone in the NTC table. It should be simulated in isolation\n",
      "[WARNING ] (interconnections): Zone FR does not appear to be connected to any other zone in the NTC table. It should be simulated in isolation\n",
      "[INFO    ] (interconnections): Detected interconnection DK -> DE, happening between the rest of the world and a simulated zone. The historical flows will be imposed to the model\n",
      "[INFO    ] (interconnections): Detected interconnection CZ -> DE, happening between the rest of the world and a simulated zone. The historical flows will be imposed to the model\n",
      "[INFO    ] (interconnections): Detected interconnection NL -> DE, happening between the rest of the world and a simulated zone. The historical flows will be imposed to the model\n",
      "[INFO    ] (interconnections): Detected interconnection DE -> AT, happening between a simulated zone and the rest of the world. The historical flows will be imposed to the model\n",
      "[INFO    ] (interconnections): Detected interconnection DE -> CZ, happening between a simulated zone and the rest of the world. The historical flows will be imposed to the model\n",
      "[INFO    ] (interconnections): Detected interconnection DE -> PL, happening between a simulated zone and the rest of the world. The historical flows will be imposed to the model\n",
      "[INFO    ] (interconnections): Detected interconnection DE -> DK, happening between a simulated zone and the rest of the world. The historical flows will be imposed to the model\n",
      "[INFO    ] (interconnections): Detected interconnection SE -> DE, happening between the rest of the world and a simulated zone. The historical flows will be imposed to the model\n",
      "[INFO    ] (interconnections): Detected interconnection AT -> DE, happening between the rest of the world and a simulated zone. The historical flows will be imposed to the model\n",
      "[INFO    ] (interconnections): Detected interconnection CH -> DE, happening between the rest of the world and a simulated zone. The historical flows will be imposed to the model\n",
      "[INFO    ] (interconnections): Detected interconnection PL -> DE, happening between the rest of the world and a simulated zone. The historical flows will be imposed to the model\n",
      "[INFO    ] (interconnections): Detected interconnection DE -> SE, happening between a simulated zone and the rest of the world. The historical flows will be imposed to the model\n",
      "[INFO    ] (interconnections): Detected interconnection DE -> CH, happening between a simulated zone and the rest of the world. The historical flows will be imposed to the model\n",
      "[INFO    ] (interconnections): Detected interconnection DE -> NL, happening between a simulated zone and the rest of the world. The historical flows will be imposed to the model\n",
      "[INFO    ] (interconnections): Detected interconnection FR -> CH, happening between a simulated zone and the rest of the world. The historical flows will be imposed to the model\n",
      "[INFO    ] (interconnections): Detected interconnection CH -> FR, happening between the rest of the world and a simulated zone. The historical flows will be imposed to the model\n",
      "[INFO    ] (interconnections): Detected interconnection FR -> ES, happening between a simulated zone and the rest of the world. The historical flows will be imposed to the model\n",
      "[INFO    ] (interconnections): Detected interconnection BE -> FR, happening between the rest of the world and a simulated zone. The historical flows will be imposed to the model\n",
      "[INFO    ] (interconnections): Detected interconnection IT -> FR, happening between the rest of the world and a simulated zone. The historical flows will be imposed to the model\n",
      "[INFO    ] (interconnections): Detected interconnection FR -> IT, happening between a simulated zone and the rest of the world. The historical flows will be imposed to the model\n",
      "[INFO    ] (interconnections): Detected interconnection FR -> BE, happening between a simulated zone and the rest of the world. The historical flows will be imposed to the model\n",
      "[INFO    ] (interconnections): Detected interconnection FR -> GB, happening between a simulated zone and the rest of the world. The historical flows will be imposed to the model\n",
      "[INFO    ] (interconnections): Detected interconnection ES -> FR, happening between the rest of the world and a simulated zone. The historical flows will be imposed to the model\n",
      "[INFO    ] (interconnections): Detected interconnection GB -> FR, happening between the rest of the world and a simulated zone. The historical flows will be imposed to the model\n",
      "[INFO    ] (NodeBasedTable): No data file found for the table LoadShedding. Using default value 0.05\n",
      "[INFO    ] (NodeBasedTable): No data file found for the table CostLoadShedding. Using default value 1000\n"
     ]
    },
    {
     "ename": "AttributeError",
     "evalue": "'DispaModelFormulation' object has no attribute 'Nhours_long'",
     "output_type": "error",
     "traceback": [
      "\u001b[0;31m---------------------------------------------------------------------------\u001b[0m",
      "\u001b[0;31mAttributeError\u001b[0m                            Traceback (most recent call last)",
      "\u001b[0;32m<ipython-input-97-95eb5dc962af>\u001b[0m in \u001b[0;36m<module>\u001b[0;34m\u001b[0m\n\u001b[0;32m----> 1\u001b[0;31m \u001b[0mdm\u001b[0m\u001b[0;34m.\u001b[0m\u001b[0mbuild_simulation\u001b[0m\u001b[0;34m(\u001b[0m\u001b[0;34m)\u001b[0m\u001b[0;34m\u001b[0m\u001b[0;34m\u001b[0m\u001b[0m\n\u001b[0m",
      "\u001b[0;32m~/Dropbox/DispaFork/Dispa-SET/dispaset/preprocessing/DispaModel.py\u001b[0m in \u001b[0;36mbuild_simulation\u001b[0;34m(self)\u001b[0m\n\u001b[1;32m    136\u001b[0m         \u001b[0;32mif\u001b[0m \u001b[0mself\u001b[0m\u001b[0;34m.\u001b[0m\u001b[0mconfig\u001b[0m\u001b[0;34m[\u001b[0m\u001b[0;34m\"SimulationDirectory\"\u001b[0m\u001b[0;34m]\u001b[0m\u001b[0;34m:\u001b[0m\u001b[0;34m\u001b[0m\u001b[0;34m\u001b[0m\u001b[0m\n\u001b[1;32m    137\u001b[0m             \u001b[0mself\u001b[0m\u001b[0;34m.\u001b[0m\u001b[0mdata\u001b[0m \u001b[0;34m=\u001b[0m \u001b[0mDataLoader\u001b[0m\u001b[0;34m(\u001b[0m\u001b[0mself\u001b[0m\u001b[0;34m.\u001b[0m\u001b[0mconfig\u001b[0m\u001b[0;34m)\u001b[0m\u001b[0;34m\u001b[0m\u001b[0;34m\u001b[0m\u001b[0m\n\u001b[0;32m--> 138\u001b[0;31m             \u001b[0mself\u001b[0m\u001b[0;34m.\u001b[0m\u001b[0mmodel\u001b[0m \u001b[0;34m=\u001b[0m \u001b[0mDispaModelFormulation\u001b[0m\u001b[0;34m(\u001b[0m\u001b[0mself\u001b[0m\u001b[0;34m.\u001b[0m\u001b[0mconfig\u001b[0m\u001b[0;34m)\u001b[0m\u001b[0;34m\u001b[0m\u001b[0;34m\u001b[0m\u001b[0m\n\u001b[0m\u001b[1;32m    139\u001b[0m \u001b[0;34m\u001b[0m\u001b[0m\n\u001b[1;32m    140\u001b[0m         \u001b[0;32melse\u001b[0m\u001b[0;34m:\u001b[0m\u001b[0;34m\u001b[0m\u001b[0;34m\u001b[0m\u001b[0m\n",
      "\u001b[0;32m~/Dropbox/DispaFork/Dispa-SET/dispaset/preprocessing/DispaModel.py\u001b[0m in \u001b[0;36m__init__\u001b[0;34m(self, config)\u001b[0m\n\u001b[1;32m    514\u001b[0m         \u001b[0mself\u001b[0m\u001b[0;34m.\u001b[0m\u001b[0mLP\u001b[0m \u001b[0;34m=\u001b[0m \u001b[0mconfig\u001b[0m\u001b[0;34m[\u001b[0m\u001b[0;34m'SimulationType'\u001b[0m\u001b[0;34m]\u001b[0m \u001b[0;34m==\u001b[0m \u001b[0;34m'LP'\u001b[0m \u001b[0;32mor\u001b[0m \u001b[0mconfig\u001b[0m\u001b[0;34m[\u001b[0m\u001b[0;34m'SimulationType'\u001b[0m\u001b[0;34m]\u001b[0m \u001b[0;34m==\u001b[0m \u001b[0;34m'LP clustered'\u001b[0m\u001b[0;34m\u001b[0m\u001b[0;34m\u001b[0m\u001b[0m\n\u001b[1;32m    515\u001b[0m         \u001b[0mself\u001b[0m\u001b[0;34m.\u001b[0m\u001b[0mCEP\u001b[0m \u001b[0;34m=\u001b[0m \u001b[0mconfig\u001b[0m\u001b[0;34m[\u001b[0m\u001b[0;34m'CEP'\u001b[0m\u001b[0;34m]\u001b[0m \u001b[0;34m==\u001b[0m \u001b[0;36m1\u001b[0m\u001b[0;34m\u001b[0m\u001b[0;34m\u001b[0m\u001b[0m\n\u001b[0;32m--> 516\u001b[0;31m         \u001b[0mself\u001b[0m\u001b[0;34m.\u001b[0m\u001b[0mload_sets\u001b[0m\u001b[0;34m(\u001b[0m\u001b[0;34m)\u001b[0m\u001b[0;34m\u001b[0m\u001b[0;34m\u001b[0m\u001b[0m\n\u001b[0m\u001b[1;32m    517\u001b[0m         \u001b[0mself\u001b[0m\u001b[0;34m.\u001b[0m\u001b[0mparameters\u001b[0m \u001b[0;34m=\u001b[0m \u001b[0mload_params\u001b[0m\u001b[0;34m(\u001b[0m\u001b[0;34m)\u001b[0m\u001b[0;34m\u001b[0m\u001b[0;34m\u001b[0m\u001b[0m\n\u001b[1;32m    518\u001b[0m \u001b[0;34m\u001b[0m\u001b[0m\n",
      "\u001b[0;32m~/Dropbox/DispaFork/Dispa-SET/dispaset/preprocessing/DispaModel.py\u001b[0m in \u001b[0;36mload_sets\u001b[0;34m(self)\u001b[0m\n\u001b[1;32m    519\u001b[0m     \u001b[0;32mdef\u001b[0m \u001b[0mload_sets\u001b[0m\u001b[0;34m(\u001b[0m\u001b[0mself\u001b[0m\u001b[0;34m)\u001b[0m\u001b[0;34m:\u001b[0m\u001b[0;34m\u001b[0m\u001b[0;34m\u001b[0m\u001b[0m\n\u001b[1;32m    520\u001b[0m         \u001b[0msets\u001b[0m \u001b[0;34m=\u001b[0m \u001b[0;34m{\u001b[0m\u001b[0;34m}\u001b[0m\u001b[0;34m\u001b[0m\u001b[0;34m\u001b[0m\u001b[0m\n\u001b[0;32m--> 521\u001b[0;31m         \u001b[0msets\u001b[0m\u001b[0;34m[\u001b[0m\u001b[0;34m'h'\u001b[0m\u001b[0;34m]\u001b[0m \u001b[0;34m=\u001b[0m \u001b[0;34m[\u001b[0m\u001b[0mstr\u001b[0m\u001b[0;34m(\u001b[0m\u001b[0mx\u001b[0m \u001b[0;34m+\u001b[0m \u001b[0;36m1\u001b[0m\u001b[0;34m)\u001b[0m \u001b[0;32mfor\u001b[0m \u001b[0mx\u001b[0m \u001b[0;32min\u001b[0m \u001b[0mrange\u001b[0m\u001b[0;34m(\u001b[0m\u001b[0mself\u001b[0m\u001b[0;34m.\u001b[0m\u001b[0mNhours_long\u001b[0m\u001b[0;34m)\u001b[0m\u001b[0;34m]\u001b[0m\u001b[0;34m\u001b[0m\u001b[0;34m\u001b[0m\u001b[0m\n\u001b[0m\u001b[1;32m    522\u001b[0m         \u001b[0msets\u001b[0m\u001b[0;34m[\u001b[0m\u001b[0;34m'z'\u001b[0m\u001b[0;34m]\u001b[0m \u001b[0;34m=\u001b[0m \u001b[0;34m[\u001b[0m\u001b[0mstr\u001b[0m\u001b[0;34m(\u001b[0m\u001b[0mx\u001b[0m \u001b[0;34m+\u001b[0m \u001b[0;36m1\u001b[0m\u001b[0;34m)\u001b[0m \u001b[0;32mfor\u001b[0m \u001b[0mx\u001b[0m \u001b[0;32min\u001b[0m \u001b[0mrange\u001b[0m\u001b[0;34m(\u001b[0m\u001b[0mself\u001b[0m\u001b[0;34m.\u001b[0m\u001b[0mNhours_long\u001b[0m \u001b[0;34m-\u001b[0m \u001b[0mself\u001b[0m\u001b[0;34m.\u001b[0m\u001b[0mconfig\u001b[0m\u001b[0;34m[\u001b[0m\u001b[0;34m'LookAhead'\u001b[0m\u001b[0;34m]\u001b[0m \u001b[0;34m*\u001b[0m \u001b[0;36m24\u001b[0m\u001b[0;34m)\u001b[0m\u001b[0;34m]\u001b[0m\u001b[0;34m\u001b[0m\u001b[0;34m\u001b[0m\u001b[0m\n\u001b[1;32m    523\u001b[0m         \u001b[0msets\u001b[0m\u001b[0;34m[\u001b[0m\u001b[0;34m'mk'\u001b[0m\u001b[0;34m]\u001b[0m \u001b[0;34m=\u001b[0m \u001b[0;34m[\u001b[0m\u001b[0;34m'DA'\u001b[0m\u001b[0;34m,\u001b[0m \u001b[0;34m'2U'\u001b[0m\u001b[0;34m,\u001b[0m \u001b[0;34m'2D'\u001b[0m\u001b[0;34m]\u001b[0m\u001b[0;34m\u001b[0m\u001b[0;34m\u001b[0m\u001b[0m\n",
      "\u001b[0;31mAttributeError\u001b[0m: 'DispaModelFormulation' object has no attribute 'Nhours_long'"
     ]
    }
   ],
   "source": [
    "dm.build_simulation()"
   ]
  },
  {
   "cell_type": "code",
   "execution_count": 98,
   "metadata": {},
   "outputs": [
    {
     "ename": "AttributeError",
     "evalue": "'DispaModel' object has no attribute 'model'",
     "output_type": "error",
     "traceback": [
      "\u001b[0;31m---------------------------------------------------------------------------\u001b[0m",
      "\u001b[0;31mAttributeError\u001b[0m                            Traceback (most recent call last)",
      "\u001b[0;32m<ipython-input-98-c70a615cc744>\u001b[0m in \u001b[0;36m<module>\u001b[0;34m\u001b[0m\n\u001b[0;32m----> 1\u001b[0;31m \u001b[0mdm\u001b[0m\u001b[0;34m.\u001b[0m\u001b[0mmodel\u001b[0m\u001b[0;34m.\u001b[0m\u001b[0mCEP\u001b[0m\u001b[0;34m\u001b[0m\u001b[0;34m\u001b[0m\u001b[0m\n\u001b[0m",
      "\u001b[0;31mAttributeError\u001b[0m: 'DispaModel' object has no attribute 'model'"
     ]
    }
   ],
   "source": [
    "dm.model.CEP"
   ]
  },
  {
   "cell_type": "code",
   "execution_count": null,
   "metadata": {},
   "outputs": [],
   "source": []
  }
 ],
 "metadata": {
  "kernelspec": {
   "display_name": "Python 3",
   "language": "python",
   "name": "python3"
  },
  "language_info": {
   "codemirror_mode": {
    "name": "ipython",
    "version": 3
   },
   "file_extension": ".py",
   "mimetype": "text/x-python",
   "name": "python",
   "nbconvert_exporter": "python",
   "pygments_lexer": "ipython3",
   "version": "3.6.8"
  }
 },
 "nbformat": 4,
 "nbformat_minor": 2
}
