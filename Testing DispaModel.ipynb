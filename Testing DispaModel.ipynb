{
 "cells": [
  {
   "cell_type": "code",
   "execution_count": 1,
   "metadata": {
    "scrolled": false
   },
   "outputs": [],
   "source": [
    "%load_ext autoreload"
   ]
  },
  {
   "cell_type": "code",
   "execution_count": 2,
   "metadata": {},
   "outputs": [],
   "source": [
    "%autoreload 2"
   ]
  },
  {
   "cell_type": "code",
   "execution_count": 3,
   "metadata": {},
   "outputs": [],
   "source": [
    "import dispaset as ds\n",
    "import pickle"
   ]
  },
  {
   "cell_type": "code",
   "execution_count": 4,
   "metadata": {},
   "outputs": [
    {
     "name": "stderr",
     "output_type": "stream",
     "text": [
      "/home/zech_ma/DispaFork/Dispa-SET/dispaset/preprocessing/data_handler.py:577: YAMLLoadWarning: calling yaml.load() without Loader=... is deprecated, as the default Loader is unsafe. Please read https://msg.pyyaml.org/load for full details.\n",
      "  config = yaml.load(f)\n"
     ]
    }
   ],
   "source": [
    "import os\n",
    "conf_file = os.path.abspath('./tests/conf.yml')\n",
    "\"\"\"Generate some data for testing\"\"\"\n",
    "config = ds.load_config_yaml(conf_file)\n",
    "assert isinstance(config, dict)\n",
    "\n"
   ]
  },
  {
   "cell_type": "code",
   "execution_count": 8,
   "metadata": {},
   "outputs": [],
   "source": [
    "from dispaset.preprocessing.dm import DispaModel, build_simulation\n",
    "from dispaset.preprocessing.DataLoader import DataLoader"
   ]
  },
  {
   "cell_type": "code",
   "execution_count": 10,
   "metadata": {
    "scrolled": false
   },
   "outputs": [
    {
     "name": "stderr",
     "output_type": "stream",
     "text": [
      "[INFO    ] (interconnections): Detected interconnection Z1 -> Z2. The historical NTCs will be imposed as maximum flow value\n",
      "[INFO    ] (interconnections): Detected interconnection Z2 -> Z1. The historical NTCs will be imposed as maximum flow value\n",
      "[INFO    ] (interconnections): Detected interconnection Z1 -> FR, happening between a simulated zone and the rest of the world. The historical flows will be imposed to the model\n",
      "[INFO    ] (interconnections): Detected interconnection FR -> Z1, happening between the rest of the world and a simulated zone. The historical flows will be imposed to the model\n",
      "[INFO    ] (NodeBasedTable): No data file found for the table LoadShedding. Using default value 0.05\n",
      "[INFO    ] (NodeBasedTable): No data file found for the table CostLoadShedding. Using default value 400.0\n",
      "[WARNING ] (load_fuel_prices): No data file found for \"PriceOfNuclear. Using default value 3.0 EUR\n",
      "[WARNING ] (load_fuel_prices): No data file found for \"PriceOfBlackCoal. Using default value 10.62 EUR\n",
      "[WARNING ] (load_fuel_prices): No data file found for \"PriceOfGas. Using default value 25.0 EUR\n",
      "[WARNING ] (load_fuel_prices): No data file found for \"PriceOfFuelOil. Using default value 35.0 EUR\n",
      "[WARNING ] (load_fuel_prices): No data file found for \"PriceOfBiomass. Using default value 37.0 EUR\n",
      "[WARNING ] (load_fuel_prices): No data file found for \"PriceOfCO2. Using default value 7.5 EUR\n",
      "[WARNING ] (load_fuel_prices): No data file found for \"PriceOfLignite. Using default value 8.0 EUR\n",
      "[WARNING ] (load_fuel_prices): No data file found for \"PriceOfPeat. Using default value 0.0 EUR\n",
      "[WARNING ] (clustering): The standard (or MILP) clustering method is only applicable if all values of the Nunits column in the power plant data are set to one. At least one different value has been encountered. No clustering will be applied\n",
      "[WARNING ] (clustering): Did not cluster any unit\n",
      "[INFO    ] (UnitBasedTable): No data file found for the table Outages. Using default value None\n",
      "[WARNING ] (UnitBasedTable): No specific information was found for unit PHOT_Z2 in table AvailabilityFactors. The generic information for ('Z2', 'PHOT') has been used\n",
      "[WARNING ] (UnitBasedTable): No specific information was found for unit WindOff_Z2 in table AvailabilityFactors. The generic information for ('Z2', 'WTOF') has been used\n",
      "[WARNING ] (UnitBasedTable): No specific information was found for unit WindOn_Z2 in table AvailabilityFactors. The generic information for ('Z2', 'WTON') has been used\n",
      "[WARNING ] (UnitBasedTable): No specific information was found for unit PHOT_Z1 in table AvailabilityFactors. The generic information for ('Z1', 'PHOT') has been used\n",
      "[WARNING ] (UnitBasedTable): No specific information was found for unit WindOn_Z1 in table AvailabilityFactors. The generic information for ('Z1', 'WTON') has been used\n",
      "[INFO    ] (UnitBasedTable): No data file found for the table ReservoirLevels. Using default value 0\n",
      "[INFO    ] (UnitBasedTable): No data file found for the table ReservoirScaledInflows. Using default value 0\n",
      "[INFO    ] (UnitBasedTable): No data file found for the table CostHeatSlack. Using default value 51.0\n",
      "[WARNING ] (check_heat_demand): The heat demand profile with header \"INESCO WKK\" does not correspond to any CHP plant. It will be ignored.\n",
      "[CRITICAL] (check_AvailabilityFactors): Unit WindOn_Z2 (technology WTON) does not appear in the availbilityFactors table. Its values will be set to 100%!\n",
      "[CRITICAL] (check_AvailabilityFactors): Unit WindOn_Z1 (technology WTON) does not appear in the availbilityFactors table. Its values will be set to 100%!\n",
      "[CRITICAL] (check_AvailabilityFactors): Unit WindOff_Z2 (technology WTOF) does not appear in the availbilityFactors table. Its values will be set to 100%!\n",
      "[CRITICAL] (check_AvailabilityFactors): Unit PHOT_Z2 (technology PHOT) does not appear in the availbilityFactors table. Its values will be set to 100%!\n",
      "[CRITICAL] (check_AvailabilityFactors): Unit PHOT_Z1 (technology PHOT) does not appear in the availbilityFactors table. Its values will be set to 100%!\n",
      "[WARNING ] (check_heat_demand): The heat demand profile with header \"[13] - INESCO WKK\" does not correspond to any CHP plant. It will be ignored.\n"
     ]
    }
   ],
   "source": [
    "dm = DispaModel.from_yaml('./tests/conf.yml')"
   ]
  },
  {
   "cell_type": "code",
   "execution_count": 11,
   "metadata": {},
   "outputs": [],
   "source": [
    "config[\"WriteGDX\"] = 0"
   ]
  },
  {
   "cell_type": "code",
   "execution_count": 12,
   "metadata": {},
   "outputs": [
    {
     "name": "stderr",
     "output_type": "stream",
     "text": [
      "[INFO    ] (interconnections): Detected interconnection Z1 -> Z2. The historical NTCs will be imposed as maximum flow value\n",
      "[INFO    ] (interconnections): Detected interconnection Z2 -> Z1. The historical NTCs will be imposed as maximum flow value\n",
      "[INFO    ] (interconnections): Detected interconnection Z1 -> FR, happening between a simulated zone and the rest of the world. The historical flows will be imposed to the model\n",
      "[INFO    ] (interconnections): Detected interconnection FR -> Z1, happening between the rest of the world and a simulated zone. The historical flows will be imposed to the model\n",
      "[INFO    ] (NodeBasedTable): No data file found for the table LoadShedding. Using default value 0.05\n",
      "[INFO    ] (NodeBasedTable): No data file found for the table CostLoadShedding. Using default value 400.0\n",
      "[WARNING ] (load_fuel_prices): No data file found for \"PriceOfNuclear. Using default value 3.0 EUR\n",
      "[WARNING ] (load_fuel_prices): No data file found for \"PriceOfBlackCoal. Using default value 10.62 EUR\n",
      "[WARNING ] (load_fuel_prices): No data file found for \"PriceOfGas. Using default value 25.0 EUR\n",
      "[WARNING ] (load_fuel_prices): No data file found for \"PriceOfFuelOil. Using default value 35.0 EUR\n",
      "[WARNING ] (load_fuel_prices): No data file found for \"PriceOfBiomass. Using default value 37.0 EUR\n",
      "[WARNING ] (load_fuel_prices): No data file found for \"PriceOfCO2. Using default value 7.5 EUR\n",
      "[WARNING ] (load_fuel_prices): No data file found for \"PriceOfLignite. Using default value 8.0 EUR\n",
      "[WARNING ] (load_fuel_prices): No data file found for \"PriceOfPeat. Using default value 0.0 EUR\n",
      "[WARNING ] (clustering): The standard (or MILP) clustering method is only applicable if all values of the Nunits column in the power plant data are set to one. At least one different value has been encountered. No clustering will be applied\n",
      "[WARNING ] (clustering): Did not cluster any unit\n",
      "[INFO    ] (UnitBasedTable): No data file found for the table Outages. Using default value None\n",
      "[WARNING ] (UnitBasedTable): No specific information was found for unit PHOT_Z2 in table AvailabilityFactors. The generic information for ('Z2', 'PHOT') has been used\n",
      "[WARNING ] (UnitBasedTable): No specific information was found for unit WindOff_Z2 in table AvailabilityFactors. The generic information for ('Z2', 'WTOF') has been used\n",
      "[WARNING ] (UnitBasedTable): No specific information was found for unit WindOn_Z2 in table AvailabilityFactors. The generic information for ('Z2', 'WTON') has been used\n",
      "[WARNING ] (UnitBasedTable): No specific information was found for unit PHOT_Z1 in table AvailabilityFactors. The generic information for ('Z1', 'PHOT') has been used\n",
      "[WARNING ] (UnitBasedTable): No specific information was found for unit WindOn_Z1 in table AvailabilityFactors. The generic information for ('Z1', 'WTON') has been used\n",
      "[INFO    ] (UnitBasedTable): No data file found for the table ReservoirLevels. Using default value 0\n",
      "[INFO    ] (UnitBasedTable): No data file found for the table ReservoirScaledInflows. Using default value 0\n",
      "[INFO    ] (UnitBasedTable): No data file found for the table CostHeatSlack. Using default value 51.0\n",
      "[WARNING ] (check_heat_demand): The heat demand profile with header \"INESCO WKK\" does not correspond to any CHP plant. It will be ignored.\n",
      "[CRITICAL] (check_AvailabilityFactors): Unit WindOn_Z2 (technology WTON) does not appear in the availbilityFactors table. Its values will be set to 100%!\n",
      "[CRITICAL] (check_AvailabilityFactors): Unit WindOn_Z1 (technology WTON) does not appear in the availbilityFactors table. Its values will be set to 100%!\n",
      "[CRITICAL] (check_AvailabilityFactors): Unit WindOff_Z2 (technology WTOF) does not appear in the availbilityFactors table. Its values will be set to 100%!\n",
      "[CRITICAL] (check_AvailabilityFactors): Unit PHOT_Z2 (technology PHOT) does not appear in the availbilityFactors table. Its values will be set to 100%!\n",
      "[CRITICAL] (check_AvailabilityFactors): Unit PHOT_Z1 (technology PHOT) does not appear in the availbilityFactors table. Its values will be set to 100%!\n",
      "[WARNING ] (check_heat_demand): The heat demand profile with header \"[13] - INESCO WKK\" does not correspond to any CHP plant. It will be ignored.\n",
      "[WARNING ] (build_model_parameters): No fuel price value has been found for fuel SUN in unit [4] - PHOT_Z2. A null variable cost has been assigned\n",
      "[WARNING ] (build_model_parameters): No fuel price value has been found for fuel WIN in unit [5] - WindOff_Z2. A null variable cost has been assigned\n",
      "[WARNING ] (build_model_parameters): No fuel price value has been found for fuel WIN in unit [6] - WindOn_Z2. A null variable cost has been assigned\n",
      "[WARNING ] (build_model_parameters): No fuel price value has been found for fuel WAT in unit [8] - COO II T. A null variable cost has been assigned\n",
      "[WARNING ] (build_model_parameters): No fuel price value has been found for fuel WAT in unit [10] - SISTERON. A null variable cost has been assigned\n",
      "[WARNING ] (build_model_parameters): No fuel price value has been found for fuel SUN in unit [14] - PHOT_Z1. A null variable cost has been assigned\n",
      "[WARNING ] (build_model_parameters): No fuel price value has been found for fuel WIN in unit [15] - WindOn_Z1. A null variable cost has been assigned\n",
      "[INFO    ] (build_sim_dir): Build finished\n"
     ]
    }
   ],
   "source": [
    "c = build_simulation(config)"
   ]
  },
  {
   "cell_type": "code",
   "execution_count": 11,
   "metadata": {},
   "outputs": [],
   "source": [
    "with open('/home/zech_ma/DispaFork/Dispa-SET/Simulations/Simulation_test/Inputs.p', 'rb') as pickle_file:\n",
    "    content = pickle.load(pickle_file)"
   ]
  },
  {
   "cell_type": "code",
   "execution_count": 12,
   "metadata": {
    "scrolled": false
   },
   "outputs": [
    {
     "name": "stderr",
     "output_type": "stream",
     "text": [
      "[INFO    ] (interconnections): Detected interconnection Z1 -> Z2. The historical NTCs will be imposed as maximum flow value\n",
      "[INFO    ] (interconnections): Detected interconnection Z2 -> Z1. The historical NTCs will be imposed as maximum flow value\n",
      "[INFO    ] (interconnections): Detected interconnection Z1 -> FR, happening between a simulated zone and the rest of the world. The historical flows will be imposed to the model\n",
      "[INFO    ] (interconnections): Detected interconnection FR -> Z1, happening between the rest of the world and a simulated zone. The historical flows will be imposed to the model\n",
      "[INFO    ] (NodeBasedTable): No data file found for the table LoadShedding. Using default value 0.05\n",
      "[INFO    ] (NodeBasedTable): No data file found for the table CostLoadShedding. Using default value 400.0\n",
      "[WARNING ] (load_fuel_prices): No data file found for \"PriceOfNuclear. Using default value 3.0 EUR\n",
      "[WARNING ] (load_fuel_prices): No data file found for \"PriceOfBlackCoal. Using default value 10.62 EUR\n",
      "[WARNING ] (load_fuel_prices): No data file found for \"PriceOfGas. Using default value 25.0 EUR\n",
      "[WARNING ] (load_fuel_prices): No data file found for \"PriceOfFuelOil. Using default value 35.0 EUR\n",
      "[WARNING ] (load_fuel_prices): No data file found for \"PriceOfBiomass. Using default value 37.0 EUR\n",
      "[WARNING ] (load_fuel_prices): No data file found for \"PriceOfCO2. Using default value 7.5 EUR\n",
      "[WARNING ] (load_fuel_prices): No data file found for \"PriceOfLignite. Using default value 8.0 EUR\n",
      "[WARNING ] (load_fuel_prices): No data file found for \"PriceOfPeat. Using default value 0.0 EUR\n",
      "[WARNING ] (clustering): The standard (or MILP) clustering method is only applicable if all values of the Nunits column in the power plant data are set to one. At least one different value has been encountered. No clustering will be applied\n",
      "[WARNING ] (clustering): Did not cluster any unit\n",
      "[INFO    ] (UnitBasedTable): No data file found for the table Outages. Using default value None\n",
      "[WARNING ] (UnitBasedTable): No specific information was found for unit PHOT_Z2 in table AvailabilityFactors. The generic information for ('Z2', 'PHOT') has been used\n",
      "[WARNING ] (UnitBasedTable): No specific information was found for unit WindOff_Z2 in table AvailabilityFactors. The generic information for ('Z2', 'WTOF') has been used\n",
      "[WARNING ] (UnitBasedTable): No specific information was found for unit WindOn_Z2 in table AvailabilityFactors. The generic information for ('Z2', 'WTON') has been used\n",
      "[WARNING ] (UnitBasedTable): No specific information was found for unit PHOT_Z1 in table AvailabilityFactors. The generic information for ('Z1', 'PHOT') has been used\n",
      "[WARNING ] (UnitBasedTable): No specific information was found for unit WindOn_Z1 in table AvailabilityFactors. The generic information for ('Z1', 'WTON') has been used\n",
      "[INFO    ] (UnitBasedTable): No data file found for the table ReservoirLevels. Using default value 0\n",
      "[INFO    ] (UnitBasedTable): No data file found for the table ReservoirScaledInflows. Using default value 0\n",
      "[INFO    ] (UnitBasedTable): No data file found for the table CostHeatSlack. Using default value 51.0\n",
      "[WARNING ] (check_heat_demand): The heat demand profile with header \"INESCO WKK\" does not correspond to any CHP plant. It will be ignored.\n",
      "[CRITICAL] (check_AvailabilityFactors): Unit WindOn_Z2 (technology WTON) does not appear in the availbilityFactors table. Its values will be set to 100%!\n",
      "[CRITICAL] (check_AvailabilityFactors): Unit WindOn_Z1 (technology WTON) does not appear in the availbilityFactors table. Its values will be set to 100%!\n",
      "[CRITICAL] (check_AvailabilityFactors): Unit WindOff_Z2 (technology WTOF) does not appear in the availbilityFactors table. Its values will be set to 100%!\n",
      "[CRITICAL] (check_AvailabilityFactors): Unit PHOT_Z2 (technology PHOT) does not appear in the availbilityFactors table. Its values will be set to 100%!\n",
      "[CRITICAL] (check_AvailabilityFactors): Unit PHOT_Z1 (technology PHOT) does not appear in the availbilityFactors table. Its values will be set to 100%!\n",
      "[WARNING ] (check_heat_demand): The heat demand profile with header \"[13] - INESCO WKK\" does not correspond to any CHP plant. It will be ignored.\n",
      "[WARNING ] (build_model_parameters): No fuel price value has been found for fuel SUN in unit [4] - PHOT_Z2. A null variable cost has been assigned\n",
      "[WARNING ] (build_model_parameters): No fuel price value has been found for fuel WIN in unit [5] - WindOff_Z2. A null variable cost has been assigned\n",
      "[WARNING ] (build_model_parameters): No fuel price value has been found for fuel WIN in unit [6] - WindOn_Z2. A null variable cost has been assigned\n",
      "[WARNING ] (build_model_parameters): No fuel price value has been found for fuel WAT in unit [8] - COO II T. A null variable cost has been assigned\n",
      "[WARNING ] (build_model_parameters): No fuel price value has been found for fuel WAT in unit [10] - SISTERON. A null variable cost has been assigned\n",
      "[WARNING ] (build_model_parameters): No fuel price value has been found for fuel SUN in unit [14] - PHOT_Z1. A null variable cost has been assigned\n",
      "[WARNING ] (build_model_parameters): No fuel price value has been found for fuel WIN in unit [15] - WindOn_Z1. A null variable cost has been assigned\n",
      "[INFO    ] (build_sim_dir): Build finished\n"
     ]
    }
   ],
   "source": [
    "sim_par = build_simulation(config)"
   ]
  },
  {
   "cell_type": "code",
   "execution_count": 27,
   "metadata": {},
   "outputs": [
    {
     "name": "stderr",
     "output_type": "stream",
     "text": [
      "/home/zech_ma/DispaFork/Dispa-SET/dispaset/preprocessing/data_handler.py:577: YAMLLoadWarning: calling yaml.load() without Loader=... is deprecated, as the default Loader is unsafe. Please read https://msg.pyyaml.org/load for full details.\n",
      "  config = yaml.load(f)\n"
     ]
    }
   ],
   "source": [
    "conf_file = os.path.abspath('./tests/conf.yml')\n",
    "config = ds.load_config_yaml(conf_file)"
   ]
  },
  {
   "cell_type": "code",
   "execution_count": 28,
   "metadata": {},
   "outputs": [
    {
     "name": "stderr",
     "output_type": "stream",
     "text": [
      "[INFO    ] (interconnections): Detected interconnection Z1 -> Z2. The historical NTCs will be imposed as maximum flow value\n",
      "[INFO    ] (interconnections): Detected interconnection Z2 -> Z1. The historical NTCs will be imposed as maximum flow value\n",
      "[INFO    ] (interconnections): Detected interconnection Z1 -> FR, happening between a simulated zone and the rest of the world. The historical flows will be imposed to the model\n",
      "[INFO    ] (interconnections): Detected interconnection FR -> Z1, happening between the rest of the world and a simulated zone. The historical flows will be imposed to the model\n",
      "[INFO    ] (NodeBasedTable): No data file found for the table LoadShedding. Using default value 0.05\n",
      "[INFO    ] (NodeBasedTable): No data file found for the table CostLoadShedding. Using default value 400.0\n",
      "[WARNING ] (load_fuel_prices): No data file found for \"PriceOfNuclear. Using default value 3.0 EUR\n",
      "[WARNING ] (load_fuel_prices): No data file found for \"PriceOfBlackCoal. Using default value 10.62 EUR\n",
      "[WARNING ] (load_fuel_prices): No data file found for \"PriceOfGas. Using default value 25.0 EUR\n",
      "[WARNING ] (load_fuel_prices): No data file found for \"PriceOfFuelOil. Using default value 35.0 EUR\n",
      "[WARNING ] (load_fuel_prices): No data file found for \"PriceOfBiomass. Using default value 37.0 EUR\n",
      "[WARNING ] (load_fuel_prices): No data file found for \"PriceOfCO2. Using default value 7.5 EUR\n",
      "[WARNING ] (load_fuel_prices): No data file found for \"PriceOfLignite. Using default value 8.0 EUR\n",
      "[WARNING ] (load_fuel_prices): No data file found for \"PriceOfPeat. Using default value 0.0 EUR\n",
      "[WARNING ] (clustering): The standard (or MILP) clustering method is only applicable if all values of the Nunits column in the power plant data are set to one. At least one different value has been encountered. No clustering will be applied\n",
      "[WARNING ] (clustering): Did not cluster any unit\n",
      "[INFO    ] (UnitBasedTable): No data file found for the table Outages. Using default value None\n",
      "[WARNING ] (UnitBasedTable): No specific information was found for unit PHOT_Z2 in table AvailabilityFactors. The generic information for ('Z2', 'PHOT') has been used\n",
      "[WARNING ] (UnitBasedTable): No specific information was found for unit WindOff_Z2 in table AvailabilityFactors. The generic information for ('Z2', 'WTOF') has been used\n",
      "[WARNING ] (UnitBasedTable): No specific information was found for unit WindOn_Z2 in table AvailabilityFactors. The generic information for ('Z2', 'WTON') has been used\n",
      "[WARNING ] (UnitBasedTable): No specific information was found for unit PHOT_Z1 in table AvailabilityFactors. The generic information for ('Z1', 'PHOT') has been used\n",
      "[WARNING ] (UnitBasedTable): No specific information was found for unit WindOn_Z1 in table AvailabilityFactors. The generic information for ('Z1', 'WTON') has been used\n",
      "[INFO    ] (UnitBasedTable): No data file found for the table ReservoirLevels. Using default value 0\n",
      "[INFO    ] (UnitBasedTable): No data file found for the table ReservoirScaledInflows. Using default value 0\n",
      "[INFO    ] (UnitBasedTable): No data file found for the table CostHeatSlack. Using default value 51.0\n",
      "[WARNING ] (check_heat_demand): The heat demand profile with header \"INESCO WKK\" does not correspond to any CHP plant. It will be ignored.\n",
      "[CRITICAL] (check_AvailabilityFactors): Unit WindOn_Z2 (technology WTON) does not appear in the availbilityFactors table. Its values will be set to 100%!\n",
      "[CRITICAL] (check_AvailabilityFactors): Unit WindOn_Z1 (technology WTON) does not appear in the availbilityFactors table. Its values will be set to 100%!\n",
      "[CRITICAL] (check_AvailabilityFactors): Unit WindOff_Z2 (technology WTOF) does not appear in the availbilityFactors table. Its values will be set to 100%!\n",
      "[CRITICAL] (check_AvailabilityFactors): Unit PHOT_Z2 (technology PHOT) does not appear in the availbilityFactors table. Its values will be set to 100%!\n",
      "[CRITICAL] (check_AvailabilityFactors): Unit PHOT_Z1 (technology PHOT) does not appear in the availbilityFactors table. Its values will be set to 100%!\n",
      "[WARNING ] (check_heat_demand): The heat demand profile with header \"[13] - INESCO WKK\" does not correspond to any CHP plant. It will be ignored.\n"
     ]
    }
   ],
   "source": [
    "dl = DataLoader(config)"
   ]
  },
  {
   "cell_type": "code",
   "execution_count": 32,
   "metadata": {},
   "outputs": [],
   "source": [
    "pars = [\n",
    " 'AF',\n",
    " 'CostHeatSlack',\n",
    " 'CostLoadShedding',\n",
    " 'FuelPrices',\n",
    " 'HeatDemand',\n",
    " 'Inter_RoW',\n",
    " 'Interconnections',\n",
    " 'Load',\n",
    " 'LoadShedding',\n",
    " 'NTC',\n",
    " 'NTCs',\n",
    " 'Outages',\n",
    " 'PeakLoad',\n",
    " 'Plants_merged',\n",
    " 'ReservoirLevels',\n",
    " 'ReservoirScaledInflows',\n",
    "]"
   ]
  },
  {
   "cell_type": "code",
   "execution_count": 40,
   "metadata": {},
   "outputs": [
    {
     "data": {
      "text/plain": [
       "['Z1 -> Z2', 'Z2 -> Z1', 'Z1 -> RoW', 'RoW -> Z1']"
      ]
     },
     "execution_count": 40,
     "metadata": {},
     "output_type": "execute_result"
    }
   ],
   "source": [
    "dl.Interconnections"
   ]
  },
  {
   "cell_type": "code",
   "execution_count": 46,
   "metadata": {},
   "outputs": [
    {
     "data": {
      "text/plain": [
       "Unit                          0\n",
       "PowerCapacity                 0\n",
       "Nunits                        0\n",
       "Zone                          0\n",
       "Technology                    0\n",
       "Fuel                          0\n",
       "Efficiency                    0\n",
       "TimeUpMinimum                 0\n",
       "TimeDownMinimum               1\n",
       "RampUpRate                    0\n",
       "RampDownRate                  0\n",
       "CostStartUp                   0\n",
       "NoLoadCost                    0\n",
       "CostRampUp                    0\n",
       "PartLoadMin                   0\n",
       "MinEfficiency                 0\n",
       "StartUpTime                   0\n",
       "EmissionRate                  0\n",
       "CHPType                       0\n",
       "CHPPowerToHeat               15\n",
       "CHPPowerLossFactor           15\n",
       "StorageCapacity              13\n",
       "StorageSelfDischarge         13\n",
       "StorageChargingCapacity      14\n",
       "StorageChargingEfficiency    14\n",
       "Maasvlakte                   16\n",
       "ExtendableCapacity           15\n",
       "CHPMaxHeat                   16\n",
       "dtype: int64"
      ]
     },
     "execution_count": 46,
     "metadata": {},
     "output_type": "execute_result"
    }
   ],
   "source": [
    "dl.Plants_merged.isnull().sum(axis=0)"
   ]
  },
  {
   "cell_type": "code",
   "execution_count": 49,
   "metadata": {},
   "outputs": [
    {
     "name": "stdout",
     "output_type": "stream",
     "text": [
      "AF\n",
      "0\n",
      "CostHeatSlack\n",
      "0\n",
      "CostLoadShedding\n",
      "0\n",
      "FuelPrices\n",
      "0\n",
      "HeatDemand\n",
      "0\n",
      "Inter_RoW\n",
      "0\n",
      "Interconnections\n",
      "Load\n",
      "0\n",
      "LoadShedding\n",
      "0\n",
      "NTC\n",
      "0\n",
      "NTCs\n",
      "0\n",
      "Outages\n",
      "0.0\n",
      "PeakLoad\n",
      "Plants_merged\n",
      "ReservoirLevels\n",
      "0\n",
      "ReservoirScaledInflows\n",
      "0\n"
     ]
    }
   ],
   "source": [
    "import pandas as pd\n",
    "\n",
    "for par in pars: \n",
    "    print(par)\n",
    "    df = getattr(dl, par)\n",
    "    if type(df) == pd.DataFrame and par != \"Plants_merged\":\n",
    "        print(df.isnull().sum().sum())\n",
    "        assert df.isnull().sum().sum() == 0"
   ]
  },
  {
   "cell_type": "code",
   "execution_count": 31,
   "metadata": {},
   "outputs": [
    {
     "data": {
      "text/plain": [
       "0"
      ]
     },
     "execution_count": 31,
     "metadata": {},
     "output_type": "execute_result"
    }
   ],
   "source": []
  },
  {
   "cell_type": "code",
   "execution_count": 20,
   "metadata": {},
   "outputs": [
    {
     "data": {
      "text/plain": [
       "['AF',\n",
       " 'CostHeatSlack',\n",
       " 'CostLoadShedding',\n",
       " 'FuelPrices',\n",
       " 'HeatDemand',\n",
       " 'Inter_RoW',\n",
       " 'Interconnections',\n",
       " 'Load',\n",
       " 'LoadShedding',\n",
       " 'NTC',\n",
       " 'NTCs',\n",
       " 'Outages',\n",
       " 'PeakLoad',\n",
       " 'Plants_merged',\n",
       " 'ReservoirLevels',\n",
       " 'ReservoirScaledInflows',\n",
       " '_DataLoader__check_dfs',\n",
       " '_DataLoader__check_plants',\n",
       " '_DataLoader__extend_data_with_lookahead',\n",
       " '_DataLoader__map_extend_data_with_lookahead',\n",
       " '_DataLoader__merge_time_series',\n",
       " '_DataLoader__prepare_plant_data',\n",
       " '_DataLoader__rename_plant_columns',\n",
       " '__class__',\n",
       " '__delattr__',\n",
       " '__dict__',\n",
       " '__dir__',\n",
       " '__doc__',\n",
       " '__eq__',\n",
       " '__format__',\n",
       " '__ge__',\n",
       " '__getattribute__',\n",
       " '__gt__',\n",
       " '__hash__',\n",
       " '__init__',\n",
       " '__init_subclass__',\n",
       " '__le__',\n",
       " '__lt__',\n",
       " '__module__',\n",
       " '__ne__',\n",
       " '__new__',\n",
       " '__reduce__',\n",
       " '__reduce_ex__',\n",
       " '__repr__',\n",
       " '__setattr__',\n",
       " '__sizeof__',\n",
       " '__str__',\n",
       " '__subclasshook__',\n",
       " '__weakref__',\n",
       " 'config',\n",
       " 'flows',\n",
       " 'idx_utc',\n",
       " 'idx_utc_noloc',\n",
       " 'idx_utc_year_noloc',\n",
       " 'mapping',\n",
       " 'plants',\n",
       " 'plants_chp',\n",
       " 'plants_expanded',\n",
       " 'plants_sto',\n",
       " 'techs_cost']"
      ]
     },
     "execution_count": 20,
     "metadata": {},
     "output_type": "execute_result"
    }
   ],
   "source": [
    "dir(dm.data)"
   ]
  },
  {
   "cell_type": "code",
   "execution_count": 66,
   "metadata": {},
   "outputs": [
    {
     "name": "stdout",
     "output_type": "stream",
     "text": [
      "AvailabilityFactor\n",
      "(16, 745)\n",
      "(16, 745)\n",
      "CHPPowerToHeat\n",
      "(1,)\n",
      "(1,)\n",
      "CHPPowerLossFactor\n",
      "(1,)\n",
      "(1,)\n",
      "CHPMaxHeat\n",
      "(1,)\n",
      "(1,)\n",
      "CostFixed\n",
      "(16,)\n",
      "(16,)\n",
      "CostHeatSlack\n",
      "(1, 745)\n",
      "(1, 745)\n",
      "CostLoadShedding\n",
      "(2, 745)\n",
      "(2, 745)\n",
      "CostRampUp\n",
      "(16,)\n",
      "(16,)\n",
      "CostRampDown\n",
      "(16,)\n",
      "(16,)\n",
      "CostShutDown\n",
      "(16,)\n",
      "(16,)\n",
      "CostStartUp\n",
      "(16,)\n",
      "(16,)\n",
      "CostVariable\n",
      "(16, 745)\n",
      "(16, 745)\n",
      "Curtailment\n",
      "(2,)\n",
      "(2,)\n",
      "Demand\n",
      "(3, 2, 745)\n",
      "(3, 2, 745)\n",
      "Efficiency\n",
      "(16,)\n",
      "(16,)\n",
      "EmissionMaximum\n",
      "(2, 1)\n",
      "(2, 1)\n",
      "EmissionRate\n",
      "(16, 1)\n",
      "(16, 1)\n",
      "FlowMaximum\n",
      "(4, 745)\n",
      "(4, 745)\n",
      "FlowMinimum\n",
      "(4, 745)\n",
      "(4, 745)\n",
      "Fuel\n",
      "(16, 13)\n",
      "(16, 13)\n",
      "HeatDemand\n",
      "(1, 745)\n",
      "(1, 745)\n",
      "Investment\n",
      "(0,)\n",
      "(0,)\n",
      "EconomicLifetime\n",
      "(0,)\n",
      "(0,)\n",
      "LineNode\n",
      "(4, 2)\n",
      "(4, 2)\n",
      "LoadShedding\n",
      "(2, 745)\n",
      "(2, 745)\n",
      "Location\n",
      "(16, 2)\n",
      "(16, 2)\n",
      "Markup\n",
      "(16, 745)\n",
      "(16, 745)\n",
      "Nunits\n",
      "(16,)\n",
      "(16,)\n",
      "OutageFactor\n",
      "(16, 745)\n",
      "(16, 745)\n",
      "PartLoadMin\n",
      "(16,)\n",
      "(16,)\n",
      "PowerCapacity\n",
      "(16,)\n",
      "(16,)\n",
      "PowerInitial\n",
      "(16,)\n",
      "(16,)\n",
      "PriceTransmission\n",
      "(4, 745)\n",
      "(4, 745)\n",
      "RampUpMaximum\n",
      "(16,)\n",
      "(16,)\n",
      "RampDownMaximum\n",
      "(16,)\n",
      "(16,)\n",
      "RampStartUpMaximum\n",
      "(16,)\n",
      "(16,)\n",
      "RampShutDownMaximum\n",
      "(16,)\n",
      "(16,)\n",
      "Reserve\n",
      "(15,)\n",
      "(15,)\n",
      "StorageCapacity\n",
      "(16,)\n",
      "(16,)\n",
      "StorageChargingCapacity\n",
      "(2,)\n",
      "(2,)\n",
      "StorageChargingEfficiency\n",
      "(2,)\n",
      "(2,)\n",
      "StorageDischargeEfficiency\n",
      "(2,)\n",
      "(2,)\n",
      "StorageSelfDischarge\n",
      "(16,)\n",
      "(16,)\n",
      "StorageInflow\n",
      "(2, 745)\n",
      "(2, 745)\n",
      "StorageInitial\n",
      "(2,)\n",
      "(2,)\n",
      "StorageMinimum\n",
      "(2,)\n",
      "(2,)\n",
      "StorageOutflow\n",
      "(2, 745)\n",
      "(2, 745)\n",
      "StorageProfile\n",
      "(2, 745)\n",
      "(2, 745)\n",
      "Technology\n",
      "(16, 15)\n",
      "(16, 15)\n",
      "TimeUpMinimum\n",
      "(16,)\n",
      "(16,)\n",
      "TimeDownMinimum\n",
      "(16,)\n",
      "(16,)\n",
      "CHPType\n",
      "(1, 3)\n",
      "(1, 3)\n",
      "Config\n",
      "(8, 4)\n",
      "(8, 4)\n"
     ]
    }
   ],
   "source": [
    "sets = sim_par[\"sets\"]\n",
    "for name, vals in sim_par[\"parameters\"].items():\n",
    "    print(name)\n",
    "    print(vals[\"val\"].shape)\n",
    "    print(tuple(len(sets[i]) for i in vals[\"sets\"]))\n",
    "    assert vals[\"val\"].shape == tuple(len(sets[i]) for i in vals[\"sets\"])"
   ]
  },
  {
   "cell_type": "code",
   "execution_count": 16,
   "metadata": {},
   "outputs": [
    {
     "ename": "PicklingError",
     "evalue": "Can't pickle <class 'dispaset.preprocessing.dm.DispaModel'>: it's not the same object as dispaset.preprocessing.dm.DispaModel",
     "output_type": "error",
     "traceback": [
      "\u001b[0;31m---------------------------------------------------------------------------\u001b[0m",
      "\u001b[0;31mPicklingError\u001b[0m                             Traceback (most recent call last)",
      "\u001b[0;32m<ipython-input-16-3bd6465d436e>\u001b[0m in \u001b[0;36m<module>\u001b[0;34m\u001b[0m\n\u001b[1;32m      1\u001b[0m \u001b[0;32mwith\u001b[0m \u001b[0mopen\u001b[0m\u001b[0;34m(\u001b[0m\u001b[0;34m'test.pkl'\u001b[0m\u001b[0;34m,\u001b[0m \u001b[0;34m'wb'\u001b[0m\u001b[0;34m)\u001b[0m \u001b[0;32mas\u001b[0m \u001b[0moutput\u001b[0m\u001b[0;34m:\u001b[0m\u001b[0;34m\u001b[0m\u001b[0;34m\u001b[0m\u001b[0m\n\u001b[0;32m----> 2\u001b[0;31m     \u001b[0mpickle\u001b[0m\u001b[0;34m.\u001b[0m\u001b[0mdump\u001b[0m\u001b[0;34m(\u001b[0m\u001b[0mdm\u001b[0m\u001b[0;34m,\u001b[0m \u001b[0moutput\u001b[0m\u001b[0;34m,\u001b[0m \u001b[0mpickle\u001b[0m\u001b[0;34m.\u001b[0m\u001b[0mHIGHEST_PROTOCOL\u001b[0m\u001b[0;34m)\u001b[0m\u001b[0;34m\u001b[0m\u001b[0;34m\u001b[0m\u001b[0m\n\u001b[0m",
      "\u001b[0;31mPicklingError\u001b[0m: Can't pickle <class 'dispaset.preprocessing.dm.DispaModel'>: it's not the same object as dispaset.preprocessing.dm.DispaModel"
     ]
    }
   ],
   "source": [
    "with open('test.pkl', 'wb') as output:\n",
    "    pickle.dump(dm, output, pickle.HIGHEST_PROTOCOL)"
   ]
  },
  {
   "cell_type": "code",
   "execution_count": 17,
   "metadata": {},
   "outputs": [
    {
     "data": {
      "text/plain": [
       "Dispa-SET model with:                 \n",
       " -> Simulationtype: MILP                 \n",
       " -> CEP: False                 \n",
       " -> LP: True                 \n",
       " -> 2014-12-31 23:00:00 to 2015-01-30 23:00:00                 \n",
       " -> 30 days                  \n",
       " -> 16 plants"
      ]
     },
     "execution_count": 17,
     "metadata": {},
     "output_type": "execute_result"
    }
   ],
   "source": [
    "dm"
   ]
  },
  {
   "cell_type": "code",
   "execution_count": 68,
   "metadata": {},
   "outputs": [
    {
     "name": "stderr",
     "output_type": "stream",
     "text": [
      "[WARNING ] (build_model_parameters): No fuel price value has been found for fuel SUN in unit [4] - PHOT_Z2. A null variable cost has been assigned\n",
      "[WARNING ] (build_model_parameters): No fuel price value has been found for fuel WIN in unit [5] - WindOff_Z2. A null variable cost has been assigned\n",
      "[WARNING ] (build_model_parameters): No fuel price value has been found for fuel WIN in unit [6] - WindOn_Z2. A null variable cost has been assigned\n",
      "[WARNING ] (build_model_parameters): No fuel price value has been found for fuel WAT in unit [8] - COO II T. A null variable cost has been assigned\n",
      "[WARNING ] (build_model_parameters): No fuel price value has been found for fuel WAT in unit [10] - SISTERON. A null variable cost has been assigned\n",
      "[WARNING ] (build_model_parameters): No fuel price value has been found for fuel SUN in unit [14] - PHOT_Z1. A null variable cost has been assigned\n",
      "[WARNING ] (build_model_parameters): No fuel price value has been found for fuel WIN in unit [15] - WindOn_Z1. A null variable cost has been assigned\n"
     ]
    }
   ],
   "source": [
    "dm.build_model_parameters()"
   ]
  },
  {
   "cell_type": "code",
   "execution_count": 245,
   "metadata": {},
   "outputs": [],
   "source": [
    "import os\n",
    "from glob import glob\n",
    "PATH = \"/home/zech_ma/DispaFork/Dispa-SET/Database/PowerPlants\"\n",
    "EXT = \"*.csv\"\n",
    "all_csv_files = [file\n",
    "                 for path, subdir, files in os.walk(PATH)\n",
    "                 for file in glob(os.path.join(path, EXT))]\n",
    "\n",
    "for file in all_csv_files:\n",
    "    df = pd.read_csv(file, index_col=0)\n",
    "    df[\"ExtendableCapacity\"] = None\n",
    "    df.to_csv(file, index=True)"
   ]
  },
  {
   "cell_type": "code",
   "execution_count": 246,
   "metadata": {},
   "outputs": [],
   "source": [
    "fpath = \"/home/zech_ma/DispaFork/Dispa-SET/tests/dummy_data/Units_testcase.csv\"\n",
    "df = pd.read_csv(fpath, index_col=0)\n",
    "df[\"ExtendableCapacity\"] = None\n",
    "df.to_csv(fpath, index=True)"
   ]
  },
  {
   "cell_type": "code",
   "execution_count": 265,
   "metadata": {},
   "outputs": [],
   "source": [
    "unit_path = fpath"
   ]
  },
  {
   "cell_type": "code",
   "execution_count": 317,
   "metadata": {},
   "outputs": [
    {
     "name": "stderr",
     "output_type": "stream",
     "text": [
      "/home/zech_ma/DispaFork/Dispa-SET/dispaset/preprocessing/data_handler.py:577: YAMLLoadWarning: calling yaml.load() without Loader=... is deprecated, as the default Loader is unsafe. Please read https://msg.pyyaml.org/load for full details.\n",
      "  config = yaml.load(f)\n"
     ]
    }
   ],
   "source": [
    "conf_file = os.path.abspath('/home/zech_ma/DispaFork/Dispa-SET/tests/conf.yml')\n",
    "\"\"\"Generate some data for testing\"\"\"\n",
    "config = ds.load_config_yaml(conf_file)"
   ]
  },
  {
   "cell_type": "code",
   "execution_count": 350,
   "metadata": {
    "scrolled": false
   },
   "outputs": [
    {
     "name": "stderr",
     "output_type": "stream",
     "text": [
      "[INFO    ] (NodeBasedTable): No data file found for the table LoadShedding. Using default value 0.05\n",
      "[INFO    ] (NodeBasedTable): No data file found for the table CostLoadShedding. Using default value 400.0\n",
      "[WARNING ] (clustering): The standard (or MILP) clustering method is only applicable if all values of the Nunits column in the power plant data are set to one. At least one different value has been encountered. No clustering will be applied\n",
      "[WARNING ] (clustering): Did not cluster any unit\n",
      "[CRITICAL] (check_sto): The power plants data does not contain the field \"STOCapacity\", which is mandatory for storage units\n"
     ]
    },
    {
     "ename": "SystemExit",
     "evalue": "1",
     "output_type": "error",
     "traceback": [
      "An exception has occurred, use %tb to see the full traceback.\n",
      "\u001b[0;31mSystemExit\u001b[0m\u001b[0;31m:\u001b[0m 1\n"
     ]
    },
    {
     "name": "stderr",
     "output_type": "stream",
     "text": [
      "/home/zech_ma/miniconda3/envs/dispaset/lib/python3.7/site-packages/IPython/core/interactiveshell.py:3304: UserWarning: To exit: use 'exit', 'quit', or Ctrl-D.\n",
      "  warn(\"To exit: use 'exit', 'quit', or Ctrl-D.\", stacklevel=1)\n"
     ]
    }
   ],
   "source": [
    "dm = DispaModel(config)"
   ]
  }
 ],
 "metadata": {
  "@webio": {
   "lastCommId": null,
   "lastKernelId": null
  },
  "kernelspec": {
   "display_name": "Python 3",
   "language": "python",
   "name": "python3"
  },
  "language_info": {
   "codemirror_mode": {
    "name": "ipython",
    "version": 3
   },
   "file_extension": ".py",
   "mimetype": "text/x-python",
   "name": "python",
   "nbconvert_exporter": "python",
   "pygments_lexer": "ipython3",
   "version": "3.7.3"
  }
 },
 "nbformat": 4,
 "nbformat_minor": 2
}
